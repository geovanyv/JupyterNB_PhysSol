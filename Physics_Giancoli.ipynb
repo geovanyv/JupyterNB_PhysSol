{
 "cells": [
  {
   "cell_type": "markdown",
   "id": "00267f6b-4d71-42ce-9202-61bc847e3879",
   "metadata": {},
   "source": [
    "# Chapter 2 Describing Motion: Kinematics in One Dimension\n",
    "\n",
    "\n",
    "\n",
    "\n"
   ]
  },
  {
   "cell_type": "markdown",
   "id": "345b74d9-6784-4584-b5a5-35070a652fc8",
   "metadata": {},
   "source": [
    "## 2-1 to 2-3 Speed and Velocity"
   ]
  },
  {
   "cell_type": "markdown",
   "id": "afe1e7b8-cd0f-4e93-a020-b0ebc3d09f75",
   "metadata": {},
   "source": [
    "##### 1) If you are driving $95 km/h$ along a straight road and you look to the side for $2.0$s, how far do you travel during this inattentive period? "
   ]
  },
  {
   "cell_type": "markdown",
   "id": "0cb1523b-6bba-4bc2-9728-dd6637f1017a",
   "metadata": {},
   "source": [
    "We are being asked to find the total distance traveled during a $2.0s$ time interval while traveling at  $95 \\ km/h$\n",
    "We know that the velocity is distance over time,\n",
    "$ v =\\frac{x}{t}$\n",
    "Solve for $x$\n",
    "$x = vt$ \n",
    "\n",
    "We need to change the units of the velocity term $ km/h$ into $km/s$ we know that $\\frac{1 h}{60 min}$ and $\\frac{60 min}{60 s}$\n",
    "\n",
    "$ 90 \\frac{km}{h} \\cdot\\frac{h}{60 min} \\cdot \\frac{min}{60 s}  =  \\frac{ 90 km}{3600 s} = .025 km/s$\n",
    "\n",
    "Plugging into $x$\n",
    "\n",
    "$x = .025 \\ \\frac{km}{s} \\cdot 2s =  \\boxed{0.05 \\ km = 50 \\ m = 164 \\ ft}$\n"
   ]
  },
  {
   "cell_type": "markdown",
   "id": "15495648-ce5b-40f3-9cca-2548df38db75",
   "metadata": {},
   "source": [
    "\n",
    "##### 2) What must your car's average speed be in order to travel 235 km in 2.75 h? \n"
   ]
  },
  {
   "cell_type": "markdown",
   "id": "743de505-274b-4c5c-b52b-9868cc115302",
   "metadata": {},
   "source": [
    "This problem is straightforward, you just use the formula for velocity to find  the average speed with the provided parameters.\n",
    " $ v = \\frac{235 km}{2.75 h} = \\boxed{85.45 \\ \\frac{km}{h}}$\n",
    "\n"
   ]
  },
  {
   "cell_type": "markdown",
   "id": "ac04d862-b755-44ec-ac2b-f1e5b35bd829",
   "metadata": {},
   "source": [
    "##### 3) A paritcle at $t_1 = -2.0\\ s$ is at $x_1 = 4.8\\ cm$ and at $t_2 = 4.5\\ s$ is at $x_2 = 8.5\\ cm$. What is its average velocity over this time interval? Can you calculate its average speed from these data? Why or why not? "
   ]
  },
  {
   "cell_type": "markdown",
   "id": "0f3aa040-0eb2-423b-9323-41811c1c50f6",
   "metadata": {},
   "source": [
    "Due to the motion of the particle being in one direciton the magnituded of both the average speed and average veloicty is the same\n",
    "We find both $\\Delta x$ and $\\Delta t$ and solve for $v$\n",
    "\n",
    " #### $v = \\frac{\\Delta x}{\\Delta t} = \\frac{x_2-x_1}{t_2-t_1} = \\frac{8.5\\ cm - 4.8\\ cm}{4.5\\ s - (-2.0)\\ s} = \\frac{3.7\\ cm}{6.5\\ s} = \\boxed{5.7 \\ \\frac{cm}{s}}$"
   ]
  },
  {
   "cell_type": "markdown",
   "id": "41a46a9a-e00f-457d-821b-295e7b529abe",
   "metadata": {},
   "source": [
    "##### 4) A rolling ball moves from $x_1 = 8.4\\ cm$ to $x_2 = -4.2\\ cm$ during the time from $t_1 = 3.0\\ s$ to $t_2 = 6.1 \\ s$ What is the average velocity over this time interval?"
   ]
  },
  {
   "cell_type": "markdown",
   "id": "6f53bb6e-aa16-47e6-81e4-57f8ce3c2589",
   "metadata": {},
   "source": [
    "We use $v = \\frac{\\Delta x}{\\Delta t}$\n",
    "\n",
    " #### $v = \\frac{\\Delta x}{\\Delta t} = \\frac{x_2-x_1}{t_2-t_1} = \\frac{-4.2 - 8.4}{6.1-3.0} \\frac{cm}{s} = \\frac{-12.6}{3.1} \\frac{cm}{s} = \\boxed{-1.356\\ \\frac{cm}{s}}$\n",
    " negative sign indicaties direction"
   ]
  },
  {
   "cell_type": "markdown",
   "id": "6e5c81ed-b4bd-48ba-adbf-318825b81991",
   "metadata": {},
   "source": [
    "##### 5) A bird can fly 25 km/h. How long does it take to fly 3.5 km?"
   ]
  },
  {
   "cell_type": "markdown",
   "id": "734f6aa2-17d5-4cb4-85da-4c1f00b46482",
   "metadata": {},
   "source": [
    "Using the velocity formula we can solve for $t$ so that $t = \\frac{x}{v}$. Plugging in the values we get:\n",
    "  #### $ t = \\frac{3.5}{25}\\ \\frac{km}{1} \\ \\frac{h}{km} = \\boxed{0.14 \\  h = 8.4 \\ min = 504 \\ s} $"
   ]
  },
  {
   "cell_type": "markdown",
   "id": "9a014737-0978-46c6-92cc-ba73875fc498",
   "metadata": {},
   "source": [
    "#####  6) According to a rule of thumb, each five seconds between a lighting flash and the following thunder gives the distance to the flash in miles. \n",
    "##### (a) Assuming that the flash of light arrives in essentially no time at all, estimate the speed of sound  in m/s from this rule.\n",
    "##### (b) What would be the rule in kilometers?\n",
    "\n"
   ]
  },
  {
   "cell_type": "markdown",
   "id": "c4d23356-66ab-4a20-90e1-ade279664f90",
   "metadata": {},
   "source": [
    "(a) We first convert 1 mile into meter which is $1\\  mi = 1600\\  m$. To estimate the speed of sound we compute\n",
    "\n",
    " #### $\\frac{1600}{5}\\ \\frac{m}{s} = 320\\ m/s$.\n",
    "\n",
    "(b) To find the rule in km we can divide a kilometer with the speed of sound we just found.\n",
    " #### $t = \\frac{1000}{320} \\frac{m}{m/s} = 3.125\\ s \\approx \\boxed{3 s}$ "
   ]
  },
  {
   "cell_type": "markdown",
   "id": "f28d522b-15d6-4b72-94d4-fda4f8e91357",
   "metadata": {},
   "source": [
    "##### 7) You are driving home from school steadily at $95$ km/hr for $180$ km. It then begins to rain and you slow to $65$ km/h. You arrive home after driving $4.5$ h\n",
    "##### (a) How far is your hometown from school? \n",
    "##### (b) What was your average speed?"
   ]
  },
  {
   "cell_type": "markdown",
   "id": "88ab5963-3f8f-41d2-931b-6a2dfa6d8199",
   "metadata": {},
   "source": [
    "(a) We can divide the trip into two sections, and find the unknowns for each respective section. For when the drive is dry we can find the time elapsed by dividing by $\\frac{180}{95} \\frac{km}{\\frac{km}{h}}$. We yield $ 1.89\\ h$. We can now find the total time elapsed for the time driven while raining. \n",
    "$t_{tot} = t_1 + t_2$ solve for $t_2$,\n",
    " #### $t_2$ = $t_{tot} - t_1 = (4.5 - 1.89)\\ h = 2.61\\ h$\n",
    "\n",
    "\n",
    "Next when it begings to rain we know our average speed and time elapsed, therefore we can find the distance traveled. Use $x = vt = 65\\cdot2.61\\ \\frac{km}{h} h = 169.65\\ km$. We can know find the distance traveled by adding the distances together \n",
    " #### $x = (180+169.65)\\ km = \\boxed{349.65\\ km \\approx 350\\ km}$\n",
    "\n",
    "(b) To find the average speed we need to add the total time elapsed as well as the total distance traveled. In part (a) we found that the total distance traveled is $349.65\\ km$, and we know the total trip time, $4.5\\ h$. Next we use our $v=\\frac{x}{t}$ to find the average speed.\n",
    " #### $v=\\frac{x}{t} = \\frac{349.65\\ km}{4.5\\ h} = \\boxed{77.69\\ km/h \\approx 78\\ km/h} $"
   ]
  },
  {
   "cell_type": "markdown",
   "id": "407deb1e-d01a-458d-b967-82aa39b75480",
   "metadata": {},
   "source": [
    "#####  8) A horse trots away from its trainer in a straight line, moving 38 m away in 9.0 s. It then turns abruptly and gallops halfway back in 1.8 s. Calculate \n",
    "##### (a) its average speed and \n",
    "##### (b) its average velocity for the entire trip, using “away from the trainer” as the positive direction."
   ]
  },
  {
   "cell_type": "markdown",
   "id": "bca4088b-48ff-478f-b95f-bea4aecc90f7",
   "metadata": {},
   "source": [
    "The total distance the horse traveled is $d = (38 +\\frac{1}{2}38)\\ m = 57\\ m $ and the total displacement is $x = (38 -\\frac{1}{2}38)\\ = 19\\ m$. The total time elapsed is $(9.0+1.8)\\ = 10.8 s$. \n",
    "(a) The average speed of the horse is\n",
    " #### $s = \\frac{d}{t} = \\frac{57}{10.8}\\ \\frac{m}{s} = \\boxed{5.27\\ m/s \\approx 5.3\\ m/s} $\n",
    "(b) The average velocity for the entire trip\n",
    " #### $v = \\frac{x}{t} = \\frac{19}{10.8}\\ \\frac{m}{s} = \\boxed{1.75\\ m/s \\approx 1.8\\ m/s} $"
   ]
  },
  {
   "cell_type": "markdown",
   "id": "d3bf325c-4d4a-4e6d-9362-86c9110ab052",
   "metadata": {},
   "source": [
    "##### 9) A person jogs eight complete laps around a 400-m track in a total time of 14.5 min. Calculate\n",
    "##### (a) the average speed and\n",
    "##### (b) the average velocity, in m/s"
   ]
  },
  {
   "cell_type": "markdown",
   "id": "97e940b0-7bd3-495b-9f36-062a26e9e50c",
   "metadata": {},
   "source": [
    "(a) The total distance traveled by the jogger is $8\\cdot400\\ m = 3200\\ m$. We can then find the average speed\n",
    " #### $s = \\frac{d}{t} = \\frac{3200}{14.5}\\ \\frac{m}{min} = 220.68\\  \\cdot \\frac{1}{60}\\ (\\frac{m}{min})  (\\frac{min}{s}) = \\boxed{3.67 m/s} $\n",
    " (b) The average velocity is zero as the jogger's position is the same as when he started jogging\n",
    " #### $v =\\frac{\\Delta x}{\\Delta t} = \\boxed{0}$"
   ]
  },
  {
   "cell_type": "markdown",
   "id": "1ee33465-dd48-4b22-9602-6abdb2030b77",
   "metadata": {},
   "source": [
    "##### 10) Every year the Earth travels about $10^9$ km as it orbits the Sun. What is Earth's average speed in km/h?"
   ]
  },
  {
   "cell_type": "markdown",
   "id": "0bd89fec-d7a7-4995-a935-e418bea61714",
   "metadata": {},
   "source": [
    "We need to convert 1 year into hours, the way that it is done is that  $\\frac{1\\ yr}{365\\  days} \\cdot \\frac{1\\ day}{24\\  h} = \\frac{1}{8760\\ h}$. We know that one full year is $8760$ hours, with this inforamtion we can find earth's average speed\n",
    "\n",
    " #### $s=\\frac{d}{t} = \\frac{10^9}{8760}\\ (\\frac{km}{h}) = 114155 km/h = \\boxed{1.14 \\times 10^5 km/h} $"
   ]
  },
  {
   "cell_type": "markdown",
   "id": "08bd8900-cc26-4858-ab0b-5f4bb1f1078f",
   "metadata": {},
   "source": [
    "##### 11) A car traveling 95 km/h is 210 m behind a truck traveling 75 km/h. How long will it take the car to reach the truck?"
   ]
  },
  {
   "cell_type": "markdown",
   "id": "8a375461-4901-4bd2-bace-787884dbe5e0",
   "metadata": {},
   "source": [
    "Both the car and truck experience the same time elapsed therefore one can write\n",
    " #### $ \\Delta t = \\frac{d}{v} \\rightarrow \\frac{d_{car}}{v_{car}}=\\frac{d_{truck}}{v_{truck}} $\n",
    " The distance the car travels is $d_{car} = 210 \\ m + d_{truck}$ \n",
    " #### $\\frac{d_{truck}+210\\ m}{v_{car}}=\\frac{d_{truck}}{v_{truck}} $\n",
    "\n",
    "Solving for ${d_{truck}}$: \n",
    "\n",
    " $(d_{truck} + 210\\ m) = d_{truck} (\\frac{v_{car}}{v_{truck}})$\n",
    " \n",
    " $210\\ m = (\\frac{v_{car}}{v_{truck}}) d_{truck} - d_{truck}$\n",
    " \n",
    " $210\\ m = d_{truck} ((\\frac{v_{car}}{v_{truck}}) - 1)$\n",
    "  $d_{truck} =210\\ m ((\\frac{v_{car}}{v_{truck}}) - 1)^{-1}$\n",
    "  \n",
    " \n",
    "$d_{truck} =210\\ m ((\\frac{95 km/h}{75 km/h}) - 1)^{-1} = 787.5\\ m$\n",
    "  \n",
    "Since the time of travel is the same, we can find the time it took the car to reach the truck:\n",
    "\n",
    "  $\\Delta t = \\frac{d_{truck}}{v_{truck}} = \\frac{787.5\\ m}{75000\\ m/h} \\frac{60 min}{1\\ h} \\frac{60 s}{1\\ min} = \\boxed {38s}$\n"
   ]
  },
  {
   "cell_type": "markdown",
   "id": "9a28778f-e66b-4a81-8a8c-a40ce7b041e8",
   "metadata": {},
   "source": [
    "##### 12) Calculate the average speed and average velocity of a complete round trip in which the outgoing 250 km is covered at 95 km/h, followed by a 1.0-h lunch break, and the return 250 km is covered at 55 km/h."
   ]
  },
  {
   "cell_type": "markdown",
   "id": "fb51fc16-bbf8-45e8-a177-62938b7405e1",
   "metadata": {},
   "source": [
    "We must find the total time elapsed along with the total distance traveled to know the average speed. Using $\\Delta t = \\frac{x}{v}$ we can find the time elasped when traveling 95 km/h and 55 km/h respectively. \n",
    "\n",
    "For $t_1$,\n",
    "\n",
    "$t_1 = \\frac{x_1}{v_1} = \\frac{250\\ km}{95\\ km/h} = 2.6\\ h$\n",
    "\n",
    "For $t_2$,\n",
    "\n",
    "$t_2 = \\frac{x_2}{v_2} = \\frac{250\\ km}{55\\ km/h} = 4.5\\ h$\n",
    "\n",
    "The total time elapsed includeds the one hour lunch break,\n",
    "\n",
    "$ t_{total} = t_1 + t_{lunch} + t_2 = (2.6 + 1 + 4.5)\\ h = 8.177\\ h$\n",
    "\n",
    "The total distanced traveled is,\n",
    "\n",
    "$ x_{total} = x_1+x_2 = (250+250)\\ km = 500\\ km$\n",
    "\n",
    "Therefore the average speed, \n",
    "\n",
    "$s = \\frac{x_{total}}{t_{total}} = \\frac{500\\ km}{8.177\\ h} = \\boxed{61 \\ km/h}$\n",
    "\n",
    "Since the start and end position is the same, there is no displacement hence $\\boxed{\\Delta v = 0}$"
   ]
  },
  {
   "cell_type": "markdown",
   "id": "c53fd7c9-23ac-4536-91e4-2cbfd35aeecc",
   "metadata": {},
   "source": [
    "##### 13) Two locomotives approach each other on parallel tracks. Each has a speed  155 km/h of with respect to the ground. If they are initially 8.5 km apart, how long will it be before they reach each other?"
   ]
  },
  {
   "cell_type": "markdown",
   "id": "b9308ecf-2a3b-47ba-8466-4657d8abe9d1",
   "metadata": {},
   "source": [
    "Since the locomotives have the same speed, they travel half the distance before reaching each other,\n",
    "\n",
    " #### $\\Delta t = \\frac{x}{v} = \\frac{\\frac{8.5\\ km}{2}}{155\\ km/h} = \\frac{4.25\\ km}{155\\ km/h} = 0.027 \\ h\\  \\frac{60 min}{1 h} \\frac{60 s}{1 min} = \\boxed{99\\ s}$\n",
    "\n",
    "\n"
   ]
  },
  {
   "cell_type": "markdown",
   "id": "76edeb1c-8751-4aec-b3d7-45fc7884e16d",
   "metadata": {},
   "source": [
    "##### 14) Digital bits on a 12.0-cm diameter audio CD are encoded along an outward spiraling path that starts at radius $R_1=2.5\\ cm$ and finishes at radius $R_2=5.8\\ cm$. The distance between the centers of neighboring spiral windings is $1.6\\ \\mu m \\ (=1.6 \\times 10^-6\\ m)$\n",
    "##### (a) Determine the total length of the spiraling path. [Hint: Imagine “unwinding” the spiral into a straight path of width and note that the original spiral and the straight path both occupy the same area.] \n",
    "##### (b) To read information, a CD player adjusts the rotation of the CD so that the player’s readout laser moves along the spiral path at a constant speed of about 1.2 m/s. Estimate the maximum playing time of such a CD."
   ]
  },
  {
   "cell_type": "markdown",
   "id": "7f1fac66-54d1-472a-bddf-bce2b1fbfca3",
   "metadata": {},
   "source": [
    "(a) The area of a circle is defined as $A = \\pi r^2$, to find the area between concentric circles we can write $A_{between\\ circles} = \\pi R_2^2 - \\pi R_1^2$. \n",
    "\n",
    "We now have the following \n",
    "\n",
    "$\\pi R_2^2 - \\pi R_1^2 = wl $\n",
    "\n",
    "solving for $l$ we yield,\n",
    "\n",
    "$l =  \\frac{\\pi (R_2^2 -  R_1^2)}{w} =  \\frac{\\pi (.058^2 - .0251^2)\\ m}{1.6 \\times 10^{-6} \\ m} = \\frac{.008589\\ m}{1.6 \\times 10^{-6} \\ m} = \\boxed{5368\\ m \\approx 5400\\ m}$\n",
    "\n",
    "(b) $t = \\frac{x}{v} = \\frac{5400\\ m}{1.2\\ m/s} = 4500\\ s = \\boxed{75 min}$"
   ]
  },
  {
   "cell_type": "markdown",
   "id": "e16000f4-58ce-4c36-ab15-686b6a223644",
   "metadata": {},
   "source": [
    "##### 15) A bowling ball traveling with constant speed hits the pins at the end of a bowling lane 16.5 m long. The bolwer hears the sound of the ball hitting the pins 2.80 s after the ball is released from his hands. What is the speed of the ball, assuming the speed of sound is 340 m/s?"
   ]
  },
  {
   "cell_type": "markdown",
   "id": "15006fe5-f26d-48b2-b6c7-7f811e16470d",
   "metadata": {},
   "source": [
    "The total time, $t_{tot} = 2.8\\ s$ is the sum of the both the ball and sound traveling $16.5\\ m$. We can write \n",
    "\n",
    "$t_{tot} = t_{ball} + t_{sound}$\n",
    "\n",
    "To find ${t_{sound}}$ we write\n",
    "\n",
    "$t_{sound} = \\frac{x}{v} = \\frac{16.5 \\ m}{340 \\ m/s} = 4.85\\times 10^{-2}\\ s$\n",
    "\n",
    "Solve for $t_{ball}$\n",
    "\n",
    "$t_{ball} = t_{tot}- t_{sound} = (2.8-4.85\\times10^{-2})\\ s = 2.75\\ s$\n",
    "\n",
    "To find the speed of the ball\n",
    "\n",
    "$v = \\frac{x}{t} = \\frac{16.5\\ m}{2.75\\ s}= \\boxed{6\\ m/s}$"
   ]
  },
  {
   "cell_type": "markdown",
   "id": "490aebd8-444b-48d4-a97c-8ce4698edc0e",
   "metadata": {},
   "source": [
    "##### 16) An automoblie traveling 95 km/h overtakes a 1.30-km-long train traveling in the same direction on a track parallel to the road. If the train's speed is 75 km/h, how long does it take the car to pass it, and how far will the car have traveled in this time? What are the results if the car and train are traveling in opposite directions? "
   ]
  },
  {
   "cell_type": "markdown",
   "id": "ebabab5a-3a79-4c9c-8dcf-0aa7b9092eff",
   "metadata": {},
   "source": [
    "The car has to travel the length of the train along with the distance the train traveled. We write\n",
    "\n",
    "$d_{car} = l_{train} + d_{train}$\n",
    "\n",
    "$v_{car}t= 1.3\\ km + v_{train}t$\n",
    "\n",
    "Solve for t\n",
    "\n",
    "$t(v_{car}-v_{train})=1.3\\ km $\n",
    "\n",
    "$t((95-75)\\ km/h)=1.3\\ km $\n",
    "\n",
    "$t = \\frac{1.3\\ km}{20\\ km/h}$\n",
    "\n",
    "$t = \\boxed{0.065\\ h = 3.9\\ min = 234\\ s}$\n",
    "\n",
    "The car would have traveled a total of\n",
    "\n",
    "$d_{car} = 95\\ km/h \\ 0.065\\ h= \\boxed{6.175\\ km}$\n",
    "\n",
    "If the train was traveling the opposite direction then the distance the car travels is the length of the train minus the distance the train travels.\n",
    "\n",
    "$v_{car}t= 1.3\\ km/h - v_{train}t$\n",
    "\n",
    "$t(v_{car} +  v_{train})= 1.3\\ km/h $\n",
    "\n",
    "$t(95+75)\\ km/h = 1.3\\ km $\n",
    "\n",
    "$t \\cdot 170\\ km/h = 1.3\\ km $\n",
    "\n",
    "$t = \\frac{1.3 \\ km}{170\\ km/h}$\n",
    "\n",
    "$t = 7.65\\times10^{-3} \\ h = 0.45\\ min = 27\\ s$\n",
    "\n",
    "$d_{car} = 95\\ km/h \\ (7.65\\times10^{-3} \\ h)= \\boxed{0.73\\ km}$"
   ]
  },
  {
   "cell_type": "markdown",
   "id": "c1e56128-a0a7-440a-911a-9594e6b0020f",
   "metadata": {},
   "source": [
    "## 2-4 Acceleration"
   ]
  },
  {
   "cell_type": "markdown",
   "id": "09f664fd-dd0e-4fc2-9ef1-c6bcac19cee0",
   "metadata": {},
   "source": [
    "##### 17) A sports car accelerates from rest to 95 km/h in 4.3 s. What is its average acceleration in m/$s^2$?"
   ]
  },
  {
   "cell_type": "markdown",
   "id": "a5ef8065-3e3b-4062-af3f-3a1304e87d25",
   "metadata": {},
   "source": [
    "The average acceleration can be found using $a = \\Delta v/\\Delta t$\n",
    "\n",
    " #### $a = \\frac{v_2-v_1}{x_2-x_1} = \\frac{(95\\ \\frac{km}{h})(\\frac{1\\ h}{3600\\ s})(\\frac{1000\\ m}{1\\ km}) - 0}{4.3\\ s - 0} = \\frac{26.38\\ m/s}{4.3\\ s} =\\boxed{6.1\\ m/s^2}$"
   ]
  },
  {
   "cell_type": "markdown",
   "id": "67476131-f034-4612-8b19-cac7b5f08d8a",
   "metadata": {},
   "source": [
    "##### 18) A sprinter accelerates from rest to 9.00 m/s in 1.38 s. What is her acceleration in\n",
    "##### a) m/$s^2$\n",
    "##### b) km/$h^2$"
   ]
  },
  {
   "cell_type": "markdown",
   "id": "893549b5-b394-494d-8a51-2c1bd122860b",
   "metadata": {},
   "source": [
    "(a) Find $a$\n",
    "\n",
    "$a = \\frac{\\Delta v}{\\Delta t} = \\frac{v_2-v_1}{x_2-x_1}$\n",
    "\n",
    "$ a = \\frac{9.00\\ m/s}{1.38\\ s} = \\boxed{6.52\\ m/s^2}$\n",
    "\n",
    "(b) Convert $6.52\\ m/s^2$ into $km/h^2$\n",
    "\n",
    "$6.52\\ (\\frac{m}{s^2}) (\\frac{1\\ km}{1000\\ m}) (\\frac{3600\\ s}{1 \\ h})^2 = \\boxed{8.5\\times10^4\\ \n",
    "km/h^2}$"
   ]
  },
  {
   "cell_type": "markdown",
   "id": "6bdb17db-ccf2-4d4a-8853-1b4a4059fcef",
   "metadata": {},
   "source": [
    "##### 19) A sports car moving at constant velocity travels 120 m in 5.0 s. If it then brakes and comes to a stop in 4.0s, what is the magnitude of its acceleration (assumed constant) in m/$s^2$, and in g's (g = 9.80 m/$s^2$)?"
   ]
  },
  {
   "cell_type": "markdown",
   "id": "ba5653ce-e39a-4174-af81-167e1b00d75c",
   "metadata": {},
   "source": [
    "The car is initially traveling at an average velocity of\n",
    "\n",
    "$v=\\frac{120\\ m}{5.0\\ s} = 24 \\ m/s$\n",
    "\n",
    "Now we find the acceleration by \n",
    "$a = \\frac{v_2-v_1}{x_2-x_1} = \\frac{(0-24)\\ m/s}{4\\ s} = \\frac{-24\\ m/s}{4\\ s} = \\boxed{- 6\\ m/s^2} $\n",
    "\n",
    "Finding the acceleration in terms of $g$ \n",
    "\n",
    "$ 6\\ m/s^2 \\frac{g}{9.8\\ m/s^2} = \\boxed{0.61\\ g's}$"
   ]
  },
  {
   "cell_type": "markdown",
   "id": "173e3287-1caa-4fcb-8cb4-3486c0a91ea0",
   "metadata": {},
   "source": [
    "##### 20) At highway speeds, a particular automoblie is capable of an acceleration of about 1.8 m/$s$^2. At this rate, how long does it take to accelerate from 65 km/h to 120 km/h?"
   ]
  },
  {
   "cell_type": "markdown",
   "id": "b45dd823-85ca-4032-9325-89551d34e932",
   "metadata": {},
   "source": [
    "Using $\\Delta t = \\frac{\\Delta v}{a}$\n",
    "\n",
    "\n",
    "$\\Delta v = (120-65)\\ \\frac{km}{h} \\frac{1\\ h}{3600\\ s}\\frac{1000\\ m}{1\\ km} = 15\\ m/s$\n",
    "\n",
    "$\\Delta t = \\frac{15\\ m/s}{1.8\\ m/s^2}=\\boxed{8.48\\ s}$"
   ]
  },
  {
   "cell_type": "markdown",
   "id": "19cc5741-91f1-40b5-a42f-fb4759ea3090",
   "metadata": {},
   "source": [
    "##### 21) A car moving in a straight line starts at x = 0 at t = 0. It passes the point x= 25.0 m with a speed of 11.0 m/s at t = 3.00 s. It passes the point x = 385 m with a speed of 45.0 m/s at t= 20.0s. Find \n",
    "##### (a) the average velocity, and \n",
    "##### (b) the average acceleartion, between t = 3.00 s and t = 20.0 s. "
   ]
  },
  {
   "cell_type": "markdown",
   "id": "881fdc60-0491-46be-8e43-9809e4c27e79",
   "metadata": {},
   "source": [
    "(a) $ \\bar{v} = \\frac{(385-25)\\ m}{(20-3)\\ s} = \\frac{360\\ m}{17\\ s} = \\boxed{21.17\\ m/s} $\n",
    "\n",
    "(b) $ \\bar{a} = \\frac{(45-11)\\ m/s}{(20-3)\\ s} = \\frac{34\\ m}{17\\ s} = \\boxed{2\\ m/s^2} $"
   ]
  },
  {
   "cell_type": "markdown",
   "id": "7790e092-d93a-4797-bda2-18e938271daa",
   "metadata": {},
   "source": [
    "## 2-5 to 2-6 Motion at Constant Acceleration"
   ]
  },
  {
   "cell_type": "markdown",
   "id": "f50626e5-542f-48f5-9566-dd7feff8cef5",
   "metadata": {},
   "source": [
    "##### 22) A car slows down from 28 m/s to rest in a distance of 88 m. What was its acceleration, assumed constant? "
   ]
  },
  {
   "cell_type": "markdown",
   "id": "88454220-d086-40b3-bcbe-c69df1ceea4c",
   "metadata": {},
   "source": [
    "$ v^2 = v_0^2+ 2a(x-x_0)$\n",
    "Solve for $a$\n",
    "\n",
    " ##### $a = \\frac{(v^2-v_0^2)}{2(x-x_0)} = \\frac{-28\\ m/s}{2\\cdot88\\ m} = \\boxed{4.45\\ m/s^2}$"
   ]
  },
  {
   "cell_type": "markdown",
   "id": "6cf1eded-b798-44dc-8b3f-054dbcd0da67",
   "metadata": {},
   "source": [
    "##### 23) A car accelerates from 14 m/s to 21 m/s in 6.0 s. What was its acceleration? How far did it travel in this time? Assume constant acceleration. "
   ]
  },
  {
   "cell_type": "markdown",
   "id": "81bf468f-4f27-4d8c-84f2-18923b84d99b",
   "metadata": {},
   "source": [
    "Using $v=v_0+at$ solving for $a$\n",
    "\n",
    "$a = \\frac{v-v_0}{t}= \\frac{(21-14)\\ m/s}{6\\ s}=\\frac{7\\ m/s}{6\\ s} = \\boxed{1.16\\ m/s^2 \\approx 1\\ m/s^2}$"
   ]
  },
  {
   "cell_type": "markdown",
   "id": "412fff52-9f99-4004-842b-ba6bc689024a",
   "metadata": {},
   "source": [
    "##### 24) A light plane must reach a speed of 35 m/s for takeoff. How long a runway is needed if the (constant) acceleration is 3.0 m/s^2? "
   ]
  },
  {
   "cell_type": "markdown",
   "id": "21abf809-ebd0-46ef-a4bd-8feffc000ca7",
   "metadata": {},
   "source": [
    "Solve  for $(x-x_0)$\n",
    "\n",
    "$ v^2 = v_0^2+ 2a(x-x_0) \\rightarrow (x-x_0)= \\frac{(v^2-v_0^2)}{2a}$\n",
    "\n",
    "$\\frac{(35\\ m/s)^2}{2(3.0\\ m/s^2)} = \\frac{1225\\ (m/s)^2}{6\\ m/s^2}=\\boxed{204\\ m}$"
   ]
  },
  {
   "cell_type": "markdown",
   "id": "b3e365b2-7866-4c02-b01a-e9efd4b1b4b2",
   "metadata": {},
   "source": [
    "##### 25) A baseball pitcher throws a baseball with a speed of 43 m/s. Estimate the average acceleration of the ball during the throwing motion. Inthrowing the baseball, the pitcher accelerates it through a displacement of about 3.5 m, from behind the body to the point where it is released."
   ]
  },
  {
   "cell_type": "markdown",
   "id": "b4ba79f7-c629-489b-8ca4-52a6778bfd57",
   "metadata": {},
   "source": [
    "$ v^2 = v_0^2+ 2a(x-x_0)$\n",
    "\n",
    "Solve for $a$\n",
    "\n",
    " #### $a = \\frac{(v^2-v_0^2)}{2(x_0-x)} = \\frac{(43\\ m/s)^2}{2(3.5\\ m)} =\\boxed{264\\ m/s^2}$"
   ]
  },
  {
   "cell_type": "markdown",
   "id": "5d08198a-8deb-4a0c-bb69-bca5d9e817c5",
   "metadata": {},
   "source": [
    "##### 26) A world-class sprinter can reach a top speed (of about 11.5 m/s) in the first 18.0 m of a race. What is the average acceleration of this sprinter and how long does it take her to  reach that speed?"
   ]
  },
  {
   "cell_type": "markdown",
   "id": "bf943ab9-98b8-474a-bda1-7d70620a6214",
   "metadata": {},
   "source": [
    "$ v^2 = v_0^2+ 2a(x-x_0)$\n",
    "\n",
    "Solve for $a$\n",
    "\n",
    " #### $a = \\frac{(v^2-v_0^2)}{2(x-x_0)} = \\frac{(11.5\\  m/s)^2}{2(18\\ m)} = \\frac{132.25\\ (m/s)^2}{36\\ m} = \\boxed{3.67\\ m/s^2}$\n",
    " The time it took the sprinter to reach this speed\n",
    " $t=\\frac{v}{a} = \\frac{11.5\\ m/s}{3.67\\ m/s^2} =\\boxed{3.13\\ s}$"
   ]
  },
  {
   "cell_type": "markdown",
   "id": "599988a9-29dc-4bcd-aa7c-d8de3f66acdb",
   "metadata": {},
   "source": [
    "##### 27) A car slows down uniformly from a speed of 28.0 m/s to rest in 8.00 s. How far did it travel in that time?"
   ]
  },
  {
   "cell_type": "markdown",
   "id": "fc7e4fe2-7f36-4c24-8b9c-874a8195e9c2",
   "metadata": {},
   "source": [
    "Assuming that acceleration is constant we can use two equations to find the distance traveled in that time\n",
    "\n",
    "$v= v_0 + at$\n",
    "\n",
    "solve for $a$\n",
    "\n",
    "$a= \\frac{v-v_0}{t}$\n",
    "\n",
    "$v^2=v_0^2 +2a(x-x_0)$\n",
    "\n",
    "$(x-x_0)= \\frac{v^2-v_0^2}{2a}$\n",
    "\n",
    "Substitute $a$\n",
    "\n",
    "$(x-x_0)= \\frac{v^2-v_0^2}{2} \\  \\frac{t}{v-v_0}$\n",
    "\n",
    "Simplifying \n",
    "\n",
    "\n",
    "$(x-x_0)= \\frac{v+v_0}{2} t= \\frac{28.0\\ m/s + 0}{2} \\ 8.0\\ s = 14\\ m/s 8\\ s = \\boxed{112\\ m}$"
   ]
  },
  {
   "cell_type": "markdown",
   "id": "50fa44f2-65b8-485b-8060-ff0478022893",
   "metadata": {},
   "source": [
    "##### 28) In coming to a stop, a car leaves skid marks 65 m long on the highway. Assuming a deceleration of 4.00 m/$s^2$, estimate the speed of the car just before braking."
   ]
  },
  {
   "cell_type": "markdown",
   "id": "1109cca0-9810-4bf0-841c-37d856e4ffd3",
   "metadata": {},
   "source": [
    "$(x-x_0) = 65\\ m$\n",
    "\n",
    "$a = -4.00\\ m/s^2$\n",
    "\n",
    "What is $v_0$?\n",
    "\n",
    "\n",
    "\n",
    "$v_0^2 = v^2 + 2a(x-x_0)$\n",
    "\n",
    "$v$ is zero \n",
    "\n",
    "$v_0 = \\sqrt{-2a(x-x_0)}$\n",
    "$v_0 = \\sqrt{-2(-4.0\\ m/s^2)(65\\ m)} = \\boxed{22.8\\ m/s \\approx 23\\ m/s}$"
   ]
  },
  {
   "cell_type": "markdown",
   "id": "0d071032-9c21-4ca5-819b-d5c3b9b9f3b5",
   "metadata": {},
   "source": [
    "##### 29) A car traveling at 95 km/h strikes a tree. The front end of the car compresses and the driver comes to rest after traveling 0.80 m. What was the magnitude of the average acceleration of the driver during the collision? Express the answer in terms of \"g's\", where 1.00g = 9.80 m/$s^2$."
   ]
  },
  {
   "cell_type": "markdown",
   "id": "81449f26-79fe-4e88-8a08-e03365b67f75",
   "metadata": {},
   "source": [
    "$v = 95\\ km/h = 25.38\\ m/s$\n",
    "\n",
    "$(x-x_0) = 0.80\\ m$\n",
    "\n",
    "$v^2=v_0^2 +2a(x-x_0)$\n",
    "\n",
    "Solve for $a$\n",
    "\n",
    "$a = \\frac{(v^2-v_0^2)}{2(x-x_0)} $\n",
    "\n",
    "$v_0$ is $0$\n",
    "\n",
    "$a = \\frac{(-(25.86\\ km/h)^2)}{2(0.80)} = -435.2 \\ m/s^2$\n",
    "\n",
    "$\\mid{a}\\mid =\\boxed{440\\ m/s^2}$\n",
    "\n",
    "Expressing in g\n",
    "\n",
    "$440\\ \\frac{m}{s^2} \\frac{1\\ g}{9.80\\ \\frac{m}{s^2}}  = \\boxed{44g's}$\n",
    "\n"
   ]
  },
  {
   "cell_type": "markdown",
   "id": "4d468b24-7e1f-43ae-b128-3f3b8afe4c6a",
   "metadata": {},
   "source": [
    "##### 30) A car traveling 75 km/h slows down at a constant 0.50 m/$s^2$ just by \"letting up on the gas.\" Calculate\n",
    "##### (a) the distance the car coasts before it stops\n",
    "##### (b) the time it takes to stop, and (c) the distance it travels during the first and fifth seconds"
   ]
  },
  {
   "cell_type": "markdown",
   "id": "4e13d46d-8231-42d2-af7c-466899702cd2",
   "metadata": {},
   "source": [
    "\n",
    "(a) We are given \n",
    "\n",
    "$v = 75\\ km/h = 20.83\\ m/s$\n",
    "\n",
    "Solve for $(x-x_0)$\n",
    "\n",
    "$v^2=v_0^2 +2a(x-x_0)$\n",
    "\n",
    "$(x-x_0) = \\frac{v^2-v_0^2}{2a}$\n",
    "\n",
    "We know that $v$ is $0$\n",
    "\n",
    "$(x-x_0) = \\frac{-v_0^2}{2a}$\n",
    "\n",
    "\n",
    "$(x-x_0) = \\frac{-(20.83\\ m/s)^2}{2(-0.5\\ m/s^2)}$\n",
    "\n",
    "$(x-x_0) = 433.8\\ m \\approx \\boxed{430\\ m} $ \n",
    "\n",
    "\n",
    "(b) Lets say $x_0 = 0$ describing the distance traveled before \"letting up on the gas\"\n",
    "\n",
    "\n",
    "\n",
    "$x = x_0 + vt +\\frac{1}{2}at^2$\n",
    "\n",
    "$x =  vt +\\frac{1}{2}at^2$\n",
    "\n",
    "$x(1) =  20.83\\ m/s (1\\ s) +\\frac{1}{2}(-0.50\\ m/s^2)(1)^2 = \\boxed{20.58\\ m \\approx 21\\ m}$\n",
    "\n",
    "$x(4) =  20.83\\ m/s (4\\ s) +\\frac{1}{2}(-0.50\\ m/s^2)(4)^2 \\boxed{79.32\\ m \\approx 80\\ m}$\n",
    "\n",
    "$x(5) =  20.83\\ m/s (1\\ s) +\\frac{1}{2}(-0.50\\ m/s^2)(1)^2 \\boxed{97.89\\ m \\approx 98\\ m}$\n"
   ]
  },
  {
   "cell_type": "markdown",
   "id": "38c793a0-bf6c-42a4-91d4-5d49e995ffc2",
   "metadata": {},
   "source": [
    "##### 31) Determine the stopping distances for an automoblie going a constant initial speed of 95 km/h and human reaction time of 0.40s\n",
    "##### (a) for an acceleration a = -3.0 m/$s^2$\n",
    "##### (b) for a = -6.0 m/$s^2$"
   ]
  },
  {
   "cell_type": "markdown",
   "id": "bc6acc40-7625-4384-830a-5ca8185803de",
   "metadata": {},
   "source": [
    "$v_0 =95\\ km/h = 26.38\\ m/s$\n",
    "\n",
    "(a) $a=-3.0\\ m/s^2$\n",
    "\n",
    "\n",
    "$x_0$ would be the position in which the driver decideds to hit the brakes and can be found by \n",
    "\n",
    "$x_0 = vt_r = (26.38\\ m/s)\\ (  0.40\\ s)$\n",
    "$x_0 = 10.55\\ m$\n",
    "\n",
    "$v^2=v_0^2 +2a(x-x_0)$\n",
    "\n",
    "$x = \\frac{v^2-v_0^2}{2a}+ x_0 $\n",
    "\n",
    "\n",
    "$x = \\frac{-v_0^2}{2a}+ x_0 $\n",
    "$x = \\frac{-(26.38\\ m/s)^2}{2(-3.0\\ m/s)}+ 10.55\\ m =\\boxed{126.63\\ m \\approx130\\ m}$\n",
    "\n",
    "\n",
    "(a) $a=-6.0\\ m/s^2$\n",
    "\n",
    "$x = \\frac{-(26.38\\ m/s)^2}{2(-6.0\\ m/s)}+ 10.55\\ m =\\boxed{68.54\\ m \\approx69\\ m}$\n"
   ]
  },
  {
   "cell_type": "markdown",
   "id": "b3753340-9548-47d8-a56f-339830bddcd7",
   "metadata": {},
   "source": [
    "##### 32) A driver is traveling 18.0 m/s when she sees a red light ahead. Her car is capable of decelerating at a rate of 3.65 m/$s^2$. If it takes her 0.350 s to get the brakes on and she is 20.0 m from the intersection when she sees the light, will she be able to stop in time? How far from the beginning of the intersection will she be, and in what direciton?"
   ]
  },
  {
   "cell_type": "markdown",
   "id": "01555378-e076-4a9f-b440-94ea36807217",
   "metadata": {},
   "source": [
    "We are provided the following \n",
    "\n",
    "$v_0=18\\ m/s$\n",
    "\n",
    "$a=-3.65\\ m/s^2$\n",
    "\n",
    "$t=0.350\\ s$\n",
    "\n",
    "$x-x_0=20.0\\ m$\n",
    "\n",
    "To find the total distance travled while decelerating, we have to sum the time the driver takes to react and hit the breaks and the time while slowing down. Expressed as\n",
    "\n",
    "$\\Delta x = \\Delta x_0 + x_1$\n",
    "\n",
    "$x_0=v_0t =18\\ m/s\\  0.35\\ s = 6.3\\ m$\n",
    "\n",
    "$v^2=v_0^2 +2a(x_1) $\n",
    "\n",
    "$(x_1)=\\frac{v^2-v_0^2}{2a}= \\frac{-(18\\ m/s)^2}{2(-3.65\\ m/s^2)}= 44.38\\ m/s$\n",
    "\n",
    "$\\Delta x = 6.3\\ m + 44.38\\ m = 50.68\\ m \\approx \\boxed{50.7}$\n",
    "\n",
    "She will not be able to stop in time and will be $\\boxed{30.7\\ m}$ past the intersection"
   ]
  },
  {
   "cell_type": "markdown",
   "id": "bf762a93-dbe5-4811-89f5-ca6da5f342fd",
   "metadata": {},
   "source": [
    "##### 33) A 75-m-long train begins uniform acceleration from rest. The front of th train has a speed of 18 m/s whjen it passes a railway worker who is standing 180 m from where the front of the train started. What will be the speed of the last car as it passes the worker? "
   ]
  },
  {
   "cell_type": "markdown",
   "id": "c9b9ee9b-51c5-4e5c-940f-5c028da093af",
   "metadata": {},
   "source": [
    "We have the following\n",
    "\n",
    "$d_{train} = 75\\ m$\n",
    "\n",
    "$v=18\\ m/s$\n",
    "\n",
    "$d_{worker} = 180\\ m$\n",
    "\n",
    "What is the $v$ after the train travels its length?\n",
    "\n",
    "Find the acceleration using\n",
    "\n",
    "$a = \\frac{v^2-v_0^2}{2{x-x_0}} = \\frac{(18\\ m/s)^2}{2(180\\ m)} = 0.9\\ m/s^2$\n",
    "\n",
    "We can now solve for $v$\n",
    "\n",
    "$v^2 = v_0^2 +2a(x-x_0) $\n",
    "\n",
    "$v = \\sqrt{v_0^2 +2a(x-x_0)} = \\sqrt{(18\\ m/s)^2 +2(0.9\\ m/s^2)(75\\ m)}$\n",
    "\n",
    "$v= 21.42\\ m/s \\approx \\boxed{21\\ m/s} $\n"
   ]
  },
  {
   "cell_type": "markdown",
   "id": "0af29895-fb96-4880-be5e-e1e386a51f1e",
   "metadata": {},
   "source": [
    "##### 34) A space vehicle accelerates uniformly from 85 m/s at t = 0 to 162 m/s at t = 10.0s. How far did it move between t = 2.0 s and t =6.0 s?"
   ]
  },
  {
   "cell_type": "markdown",
   "id": "94a8e53f-e4ce-41b5-9d35-09c5be7406f7",
   "metadata": {},
   "source": [
    "$ 85\\ m/s \\leq v \\leq 162\\ m/s$\n",
    "\n",
    "$0\\ s \\leq t \\leq 10\\ s$\n",
    "\n",
    "$2\\ s \\leq t \\leq 6\\ s$\n",
    "\n",
    "We can find the acceleartion \n",
    "\n",
    "$a = \\frac{(162-85)\\ m/s}{(10-0)\\ s} = \\frac{77 \\ m/s}{10} =  7.7\\ m/s^2$\n",
    "\n",
    "Using $x=x_0+vt+\\frac{1}{2}at^2$, we can find $x(6)-x(2)$ which provides the distance traveled in the time interval $2\\ s \\leq t \\leq 6\\ s$\n",
    "\n",
    "$x(2) = 85\\ m/s \\ 2\\ s +\\frac{1}{2}(7.7\\ m/s^2)(2\\ s)^2 =  185.4\\ m$\n",
    "\n",
    "$x(6) = 85\\ m/s \\ 6\\ s +\\frac{1}{2}(7.7\\ m/s^2)(6\\ s)^2 = 648.6\\ m$\n",
    "\n",
    "$x(6)-x(2) = 463.2\\ m \\approx \\boxed{463\\ m}$"
   ]
  },
  {
   "cell_type": "markdown",
   "id": "69815efd-1455-45af-ab74-310c5f52b2f0",
   "metadata": {},
   "source": [
    "##### 35) A runner hopes to complete the $10000\\ m$ run in less than 30.0 min. After running at constant speed for exactly $27.0\\ min$, there are still $1200$ m to go. The runner must then accelerate at $0.20 m/s^2$ for how many seconds in order to achieve the desired time?"
   ]
  },
  {
   "cell_type": "markdown",
   "id": "d4664c6e-285f-43bb-9f61-2db4397a2931",
   "metadata": {},
   "source": [
    "\n",
    "\n",
    "For this problem make use of the quadartic formula\n",
    "\n",
    "$ax^2+bx+c=0 \\rightarrow x =\\frac{-b\\pm \\sqrt{b^2-4ac}}{2a}$\n",
    "\n",
    "The total time elapsed is the time that the runner\n",
    "\n",
    "\n",
    "$t=t_0+t_1$\n",
    "\n",
    "$t_0=27\\ min = 1620\\ s$\n",
    "\n",
    "\n",
    "$t_1=3\\ min = 180\\ s$\n",
    "\n",
    "$x=x_0+x_1$\n",
    "\n",
    "$x_0=8800\\ m$\n",
    "\n",
    "$x_1=1200\\ m$\n",
    "\n",
    "$a=0.20\\ m/s^2$\n",
    "\n",
    "$v^2=v_0^2+2a\\Delta x$\n",
    "\n",
    "$x=x_{start} + vt +\\frac{1}{2}at^2$\n",
    "\n",
    "$v=\\frac{x}{t}=\\frac{8800\\ m}{1620\\ s} = 5.43\\ m/s $\n",
    "\n",
    "$v= v_0 + at$ \n",
    "\n",
    "$x_0= v_0t + \\frac{1}{2}at^2$\n",
    "\n",
    "$x_1=v(180-t) =(v_0 + at)(180-t) $\n",
    "\n",
    "$x=v_0t + \\frac{1}{2}at^2 +(v_0 + at)(180-t)$\n",
    "\n",
    "$x=v_0t + \\frac{1}{2}at^2 + 180v_0 -v_0t +180at -at^2 = -\\frac{1}{2}at^2 +180at +180v_0 $\n",
    "\n",
    "$x= -\\frac{1}{2}at^2 +180at +180v_0 $\n",
    "\n",
    "$1200\\ m = -\\frac{1}{2}(0.20\\ m/s^2)t^2 +180(0.20\\ m/s^2)t + 180(5.43\\ m/s)$\n",
    "\n",
    "$-0.1t^2+36t +997.4 = 1200m$\n",
    "\n",
    "$-0.1t^2+36t = 222.6\\ m$\n",
    "\n",
    "\n",
    "Now that the equation is in quadartic form we can find $t$\n",
    "\n",
    "$0.1t^2-36t +222.6\\  = 0$\n",
    "\n",
    "$t = \\frac{-b\\pm \\sqrt{b^2-4ac}}{2a}$\n",
    "\n",
    "$a = 0.1 \\ \\ b=-36\\ \\  c=222.6\\ $\n",
    "\n",
    "$t = \\frac{-(-36)\\pm \\sqrt{(-36)^2-4(0.1)(222.6)}}{2(0.1)}$\n",
    "\n",
    "Find both solutions \n",
    "\n",
    "$t = \\frac{-(-36) + \\sqrt{(-36)^2-4(0.1)(222.6)}}{2(0.1)} = 354\\ s$\n",
    "\n",
    "$t = \\frac{-(-36) - \\sqrt{(-36)^2-4(0.1)(222.6)}}{2(0.1)} = \\boxed{6.3\\ s}$\n",
    "\n",
    "We are looking for $t<180$ therefore the time the runner needs to accelerate to finish the race in 30 minutes is $\\boxed{6.3\\ s}$"
   ]
  },
  {
   "cell_type": "markdown",
   "id": "f4801a4d-fe2b-47f1-bf45-3aea698d015b",
   "metadata": {},
   "source": [
    "##### 36) A fugitive tries to hop on a freight train traveling at a constant speed of 5.0 m/s. Just as an empty box car passes him, the fugitive starts from rest and accelerates at a = 1.4 m/$s^2$ to his maximum speed of 6.0 m/s, which he then maintains.\n",
    "##### (a) How long does it take him to catch up to the empty box car?\n",
    "##### (b) What is the distance traveled to reach the box car?"
   ]
  },
  {
   "cell_type": "markdown",
   "id": "6d37b315-d8ca-450f-b1c5-1332cd1e476c",
   "metadata": {},
   "source": []
  },
  {
   "cell_type": "code",
   "execution_count": 34,
   "id": "47670679-1305-4ead-907d-84cef1f44c9e",
   "metadata": {},
   "outputs": [
    {
     "data": {
      "text/plain": [
       "6.293350731758096"
      ]
     },
     "execution_count": 34,
     "metadata": {},
     "output_type": "execute_result"
    }
   ],
   "source": [
    "import numpy as np\n",
    "(36-np.sqrt((-36)**2-4*(.1)*(222.6)))/(2*.1)"
   ]
  },
  {
   "cell_type": "markdown",
   "id": "da2c8dc7-4a67-4b30-a5a0-b45ceef4f45e",
   "metadata": {},
   "source": [
    "##### 37) Mary and Sally are in a foot race. When Mary is 22 m from the finish line, she has a speed of 4.0 m/s and is 5.0 m behind Sally, who has the speed of 5.0 m/s. Sally thinks she has an easy win and so, during the remaining portion of the race, decelerates at a constant rate of 0.40 m/$s^2$ to the finish line. What constant acceleration does Mary now need during the reamining portion of the race, if she wishes to cross the finish line side-by-side with Sally?"
   ]
  },
  {
   "cell_type": "markdown",
   "id": "42ec6a7c-3d9a-4c0f-976e-e2669b868fac",
   "metadata": {},
   "source": []
  },
  {
   "cell_type": "markdown",
   "id": "6f52a9f8-ca2e-4c0f-9b4c-efe8fa91a1d1",
   "metadata": {},
   "source": [
    "##### 38) An unmakred police car traveling a constant 95 km/h is passed by a speeder traveling 135 km/h. Precisely 1.00s after the speeder passes, the police officer steps on the accelerator; if the police car's acceleration is 2.60 m/$s^2$, how much time passes before the police car overtakes the speeder (assumed moving at constant speed)?"
   ]
  },
  {
   "cell_type": "markdown",
   "id": "3c084d40-30c3-4233-b553-29731117d1f4",
   "metadata": {},
   "source": []
  },
  {
   "cell_type": "markdown",
   "id": "9245bbed-e416-4139-884a-5dcd520cdfb4",
   "metadata": {},
   "source": [
    "## 2-7 Freely Falling Objects (neglect air resistance)"
   ]
  },
  {
   "cell_type": "markdown",
   "id": "c1890603-10bf-4c9f-ac9f-836e4c3138b1",
   "metadata": {},
   "source": [
    "##### 39) A stone is dropped from the top of a cliff. It is seen to hit the ground below after 3.55 s. How high is the cliff?"
   ]
  },
  {
   "cell_type": "markdown",
   "id": "8d3967be-f237-403d-8af2-56aed951c38d",
   "metadata": {},
   "source": []
  },
  {
   "cell_type": "markdown",
   "id": "d4ceb307-df3d-416c-9ee7-78cae040d451",
   "metadata": {},
   "source": [
    "##### 40) Estimate\n",
    "##### (a) how long it took King Kong to fall straight down from the top of the Empire State Building (380 m high)\n",
    "##### (b) his velocity just before \"landing.\""
   ]
  },
  {
   "cell_type": "markdown",
   "id": "dd2d4845-efb4-4ea5-aa37-a6644ddac59e",
   "metadata": {},
   "source": []
  },
  {
   "cell_type": "markdown",
   "id": "ee579dd4-138e-4b26-8859-45391746db50",
   "metadata": {},
   "source": [
    "##### 41) A ball player catches a ball 3.4 s after throwing it vertically upward. With what speed did he throw it, and what height did he reach?"
   ]
  },
  {
   "cell_type": "markdown",
   "id": "ecc0ca8e-b30e-4871-97b1-5da5b4211f46",
   "metadata": {},
   "source": []
  },
  {
   "cell_type": "markdown",
   "id": "eac4c7de-3e7c-44d9-ba6f-431f5da70160",
   "metadata": {},
   "source": [
    "##### 42) A baseball is hit almost straight up into the air with a speed of 25 m/s. Estimate \n",
    "##### (a) how high it goes\n",
    "##### (b) how long it is in the air\n",
    "##### (c) What factors make this an estimate?"
   ]
  },
  {
   "cell_type": "markdown",
   "id": "72bd9399-1fa6-479e-9c3c-78e797a2f718",
   "metadata": {},
   "source": []
  },
  {
   "cell_type": "markdown",
   "id": "56dbc50b-cbed-4bde-b84c-984d73421406",
   "metadata": {},
   "source": [
    "##### 43) A kangaroo jumps straight up to a vertical height of 1.45m. How long was it in the air before returning to Earth?"
   ]
  },
  {
   "cell_type": "markdown",
   "id": "bc43e4f0-b552-4b19-9cdd-3a47ed6914d1",
   "metadata": {},
   "source": []
  },
  {
   "cell_type": "markdown",
   "id": "8f5b83f4-6c59-45e1-a959-3a5f292291b4",
   "metadata": {},
   "source": [
    "##### 44) The best rebounders in basketball have avertical leap (that is, the vertical movement of a fixed point on their body) of about 120 cm.\n",
    "##### (a) What is their initial \"launch\" speed off the ground?\n",
    "##### (b) How long are they in the air?"
   ]
  },
  {
   "cell_type": "markdown",
   "id": "52ba735a-67b8-4d91-97f4-1ea7bad90ea4",
   "metadata": {},
   "source": []
  },
  {
   "cell_type": "markdown",
   "id": "8b31e8ee-e447-480f-b638-5f376dfb0105",
   "metadata": {},
   "source": [
    "##### 45) An object starts from rest and falls under the influence of gravity. Draw graphs of\n",
    "##### (a) its speed \n",
    "##### (b) the distance it has fallen, as a function of time from t = 0 to t = 5.00 s. Ignore air resistance."
   ]
  },
  {
   "cell_type": "markdown",
   "id": "06d6e474-890e-4624-9774-000ac07379ce",
   "metadata": {},
   "source": []
  },
  {
   "cell_type": "markdown",
   "id": "69bcf712-694b-4bf1-89db-6aad7c227398",
   "metadata": {},
   "source": [
    "##### 46) A stone is thrown vertically upward with a speed of 24.0 m/s.\n",
    "##### (a) How fast is it moving when it is at a height of 13.0 m?\n",
    "##### (b) How much time is required to reach this height?\n",
    "##### (c) Why are there two answers to (b)?"
   ]
  },
  {
   "cell_type": "markdown",
   "id": "4a1fdee2-a99f-4089-84ea-5550df71c65f",
   "metadata": {},
   "source": []
  },
  {
   "cell_type": "markdown",
   "id": "426ecad0-44fe-4834-953c-d0f630430187",
   "metadata": {},
   "source": [
    "##### 47) For an object falling freely from rest, show that the distance traveled during each successive second ncreases in the ratio of successive odd integers (1,3,5, etc.). (This was first shown by Galileo.)"
   ]
  },
  {
   "cell_type": "markdown",
   "id": "e4348f7f-ac59-4c6f-bebd-bcc2a06e16b9",
   "metadata": {},
   "source": []
  },
  {
   "cell_type": "markdown",
   "id": "e5ff69c8-6e45-46e9-881e-7801d785ec44",
   "metadata": {},
   "source": [
    "##### 48)"
   ]
  },
  {
   "cell_type": "markdown",
   "id": "160d4b1b-d312-4200-a44d-a9093b3d6bee",
   "metadata": {},
   "source": []
  },
  {
   "cell_type": "markdown",
   "id": "92a06e45-ffd5-467f-b6d8-ccc379c00180",
   "metadata": {},
   "source": [
    "##### 49)"
   ]
  },
  {
   "cell_type": "markdown",
   "id": "d144f31e-293e-4291-92d0-bd9e5686ca65",
   "metadata": {},
   "source": []
  },
  {
   "cell_type": "markdown",
   "id": "3310ae82-eba7-448a-b06c-cd11c5b1e9ed",
   "metadata": {},
   "source": [
    "##### 50)"
   ]
  },
  {
   "cell_type": "markdown",
   "id": "0f37bddc-4efc-4c8c-b8cc-1d49e3f38f4a",
   "metadata": {},
   "source": []
  },
  {
   "cell_type": "markdown",
   "id": "a51fb123-c1d6-4b67-bc26-cbe70fa39124",
   "metadata": {},
   "source": [
    "##### 51)"
   ]
  },
  {
   "cell_type": "markdown",
   "id": "cdb09350-4385-4994-b2fe-d51002b9544a",
   "metadata": {},
   "source": []
  },
  {
   "cell_type": "markdown",
   "id": "1c0e8f17-6955-48bc-9ea5-e74a41cad12c",
   "metadata": {},
   "source": [
    "##### 52)"
   ]
  },
  {
   "cell_type": "markdown",
   "id": "47c4e014-a8a5-4331-9b4b-d5041c145114",
   "metadata": {},
   "source": []
  },
  {
   "cell_type": "markdown",
   "id": "6255d022-8bd8-4141-ae8a-748bb1da83f7",
   "metadata": {},
   "source": [
    "##### 53)"
   ]
  },
  {
   "cell_type": "markdown",
   "id": "d00d985c-d7d5-451d-a446-96bda8b9eaf1",
   "metadata": {},
   "source": []
  },
  {
   "cell_type": "markdown",
   "id": "5840b97a-6097-46a7-9a51-f25de0b9a2c3",
   "metadata": {},
   "source": [
    "##### 54)"
   ]
  },
  {
   "cell_type": "markdown",
   "id": "540de450-fb9f-4af0-8097-7fdb2e21fd9e",
   "metadata": {},
   "source": []
  },
  {
   "cell_type": "markdown",
   "id": "95314f79-5836-449d-a946-4ebb55e12bfa",
   "metadata": {},
   "source": [
    "## 2-8 Graphical Analysis"
   ]
  },
  {
   "cell_type": "markdown",
   "id": "dbe90cc5-d34f-4c2e-99b8-33a384a3b37b",
   "metadata": {},
   "source": [
    "##### 55)"
   ]
  },
  {
   "cell_type": "markdown",
   "id": "00fc4773-b87d-488b-af4e-7b4778416d5b",
   "metadata": {},
   "source": []
  },
  {
   "cell_type": "markdown",
   "id": "763db82d-e8a2-489d-8272-151ec185c1a7",
   "metadata": {},
   "source": [
    "##### 56)"
   ]
  },
  {
   "cell_type": "markdown",
   "id": "9cb3a8f3-bf68-41b5-a2c0-31767fc04351",
   "metadata": {},
   "source": []
  },
  {
   "cell_type": "markdown",
   "id": "c8a8e273-5346-4925-8834-154ffe7be0c7",
   "metadata": {},
   "source": [
    "##### 57)"
   ]
  },
  {
   "cell_type": "markdown",
   "id": "fa8acb08-bcc5-42b6-a143-51f71b92057e",
   "metadata": {},
   "source": []
  },
  {
   "cell_type": "markdown",
   "id": "56e392fe-d0da-41d8-9bba-42dcc2724fe5",
   "metadata": {},
   "source": [
    "##### 58)"
   ]
  },
  {
   "cell_type": "markdown",
   "id": "bbce9a36-a53d-466f-927b-dcb313b02d32",
   "metadata": {},
   "source": []
  },
  {
   "cell_type": "markdown",
   "id": "0e2a427f-31e6-43fe-b179-55fefb016657",
   "metadata": {},
   "source": [
    "##### 59)"
   ]
  },
  {
   "cell_type": "markdown",
   "id": "fbb117b6-1283-477d-b0f9-6225195513d8",
   "metadata": {},
   "source": []
  },
  {
   "cell_type": "markdown",
   "id": "7c5386e0-19cb-4831-9728-93a3cf3fd4b6",
   "metadata": {},
   "source": [
    "## General Problems"
   ]
  },
  {
   "cell_type": "markdown",
   "id": "fa94ee19-0f77-44dd-b55c-963e10750267",
   "metadata": {},
   "source": [
    "##### 60)"
   ]
  },
  {
   "cell_type": "markdown",
   "id": "ab0e09be-af56-4fd7-a0ab-71446ebe1a7b",
   "metadata": {},
   "source": []
  },
  {
   "cell_type": "markdown",
   "id": "ba0bdbaa-15f8-451b-9a18-cc6e4c966698",
   "metadata": {},
   "source": [
    "##### 61)"
   ]
  },
  {
   "cell_type": "markdown",
   "id": "431df7a8-5909-4023-b165-39dabbdebed1",
   "metadata": {},
   "source": []
  },
  {
   "cell_type": "markdown",
   "id": "37373761-ec3f-4340-9767-de9ebf9acefb",
   "metadata": {},
   "source": [
    "##### 62)"
   ]
  },
  {
   "cell_type": "markdown",
   "id": "6f4b1b8d-5285-44ef-b647-7dfe7ba39742",
   "metadata": {},
   "source": []
  },
  {
   "cell_type": "markdown",
   "id": "a0bdbfe7-103b-4edc-a4c0-6ba52c9e0cbe",
   "metadata": {},
   "source": [
    "##### 63)"
   ]
  },
  {
   "cell_type": "markdown",
   "id": "5bf048ee-9f6d-4eec-9196-2c1f315e9044",
   "metadata": {},
   "source": []
  },
  {
   "cell_type": "markdown",
   "id": "7d532eb7-9678-4c19-82a0-5d9b83d1bfcb",
   "metadata": {},
   "source": [
    "##### 64)"
   ]
  },
  {
   "cell_type": "markdown",
   "id": "c07c14bb-aa34-4e1f-b202-eab342e14895",
   "metadata": {},
   "source": []
  },
  {
   "cell_type": "markdown",
   "id": "7d997c9d-6635-4fcf-8134-b8d5a87740d7",
   "metadata": {},
   "source": [
    "##### 65)"
   ]
  },
  {
   "cell_type": "markdown",
   "id": "a382f7b3-3271-48c9-9681-b3fe14bc9924",
   "metadata": {},
   "source": []
  },
  {
   "cell_type": "markdown",
   "id": "4c25d738-0441-4a27-99e7-211ec9b0c18e",
   "metadata": {},
   "source": [
    "##### 66)"
   ]
  },
  {
   "cell_type": "markdown",
   "id": "5e8da433-4efe-42e7-8adf-63d4708811ce",
   "metadata": {},
   "source": []
  },
  {
   "cell_type": "markdown",
   "id": "b31ee1e2-7d1e-448c-af80-980cefd0856a",
   "metadata": {},
   "source": [
    "##### 67)"
   ]
  },
  {
   "cell_type": "markdown",
   "id": "852a7b18-2874-4fcb-8499-b0cbbce25017",
   "metadata": {},
   "source": []
  },
  {
   "cell_type": "markdown",
   "id": "dece4d99-0ecb-4a1c-83c0-e92aff139be6",
   "metadata": {},
   "source": [
    "##### 68)"
   ]
  },
  {
   "cell_type": "markdown",
   "id": "4efac1e3-9624-424f-b972-3c3e8c16d835",
   "metadata": {},
   "source": []
  },
  {
   "cell_type": "markdown",
   "id": "39b324a7-b84b-44e9-be13-70cf8a4352e5",
   "metadata": {},
   "source": [
    "##### 69)"
   ]
  },
  {
   "cell_type": "markdown",
   "id": "0e595c4e-f64d-4e30-8129-31dfd296af8f",
   "metadata": {},
   "source": []
  },
  {
   "cell_type": "markdown",
   "id": "b3cda03e-1302-4541-b3fe-feb66547e70e",
   "metadata": {},
   "source": [
    "##### 70)"
   ]
  },
  {
   "cell_type": "markdown",
   "id": "1f1eec18-f400-483b-b560-8816723a5d09",
   "metadata": {},
   "source": []
  },
  {
   "cell_type": "markdown",
   "id": "563fbd17-b253-4dd9-9709-d9bb171b8333",
   "metadata": {},
   "source": [
    "##### 71)"
   ]
  },
  {
   "cell_type": "markdown",
   "id": "c9eb820d-e02b-423b-989b-4826f08c67f2",
   "metadata": {},
   "source": []
  },
  {
   "cell_type": "markdown",
   "id": "f762f9aa-e18d-4b9f-bf42-bb33d19fe8cd",
   "metadata": {},
   "source": [
    "##### 72)"
   ]
  },
  {
   "cell_type": "markdown",
   "id": "8e2441bf-8cac-4942-8375-11e2e09c0b17",
   "metadata": {},
   "source": []
  },
  {
   "cell_type": "markdown",
   "id": "4e953766-8a8a-4584-bb18-c9a4b83de5e0",
   "metadata": {},
   "source": [
    "##### 73)"
   ]
  },
  {
   "cell_type": "markdown",
   "id": "753efb1d-1417-442c-867c-a86021141265",
   "metadata": {},
   "source": []
  },
  {
   "cell_type": "markdown",
   "id": "e355551d-f49f-46ca-b62c-176b88bb5f25",
   "metadata": {},
   "source": [
    "##### 74)"
   ]
  },
  {
   "cell_type": "markdown",
   "id": "40a8953c-cbef-4841-826e-694ae794568f",
   "metadata": {},
   "source": []
  },
  {
   "cell_type": "markdown",
   "id": "7c930ba4-3a7f-4db2-9fc3-1794b92aa50a",
   "metadata": {},
   "source": [
    "##### 75)"
   ]
  },
  {
   "cell_type": "markdown",
   "id": "46989ce3-b8fc-4d6f-b984-ca180dfed0e4",
   "metadata": {},
   "source": []
  },
  {
   "cell_type": "markdown",
   "id": "b4de1a96-84e8-4751-8882-d04703d1db33",
   "metadata": {},
   "source": [
    "##### 76)"
   ]
  },
  {
   "cell_type": "markdown",
   "id": "5d048050-93e5-4d9a-b609-aded13499c34",
   "metadata": {},
   "source": []
  },
  {
   "cell_type": "markdown",
   "id": "e08a7026-9219-4b40-b0ef-1aedba481afd",
   "metadata": {},
   "source": [
    "##### 77)"
   ]
  },
  {
   "cell_type": "markdown",
   "id": "0c10ef93-9945-473c-ad5c-edad1c13a012",
   "metadata": {},
   "source": []
  },
  {
   "cell_type": "markdown",
   "id": "1fabfec3-5ffb-40fb-aee9-c3b8a5f36274",
   "metadata": {},
   "source": [
    "##### 78)"
   ]
  },
  {
   "cell_type": "markdown",
   "id": "fb3d8b20-4d62-4651-a9b8-84d9835e8e86",
   "metadata": {},
   "source": []
  },
  {
   "cell_type": "markdown",
   "id": "b5d3daab-8023-4e42-a672-70347bce7810",
   "metadata": {},
   "source": [
    "##### 79)"
   ]
  },
  {
   "cell_type": "markdown",
   "id": "bdd4367a-f827-4d45-a03c-8ec9a397e9dc",
   "metadata": {},
   "source": []
  },
  {
   "cell_type": "markdown",
   "id": "fbf57523-934f-4914-9d68-5107a660d338",
   "metadata": {},
   "source": [
    "##### 80)"
   ]
  },
  {
   "cell_type": "markdown",
   "id": "6533f46d-249f-4871-b507-4a70f04248a2",
   "metadata": {},
   "source": []
  },
  {
   "cell_type": "markdown",
   "id": "8b78d948-2164-4f66-acb4-a38cd60c82f6",
   "metadata": {},
   "source": [
    "##### 81)"
   ]
  },
  {
   "cell_type": "markdown",
   "id": "3805e7c6-b470-4776-a11e-b93395dfee64",
   "metadata": {},
   "source": []
  },
  {
   "cell_type": "markdown",
   "id": "34711a28-0a10-47f2-9aa1-ec0540b7ee71",
   "metadata": {},
   "source": [
    "##### 82)"
   ]
  },
  {
   "cell_type": "markdown",
   "id": "444afe2c-8626-47ad-9dee-29299c979152",
   "metadata": {},
   "source": []
  },
  {
   "cell_type": "markdown",
   "id": "c047a9f2-2bbb-4d51-a46e-fb049bed9458",
   "metadata": {},
   "source": [
    "##### 83)"
   ]
  },
  {
   "cell_type": "markdown",
   "id": "4b2b3fbf-131c-4c5f-b747-15a11f451f06",
   "metadata": {},
   "source": []
  }
 ],
 "metadata": {
  "kernelspec": {
   "display_name": "Python 3 (ipykernel)",
   "language": "python",
   "name": "python3"
  },
  "language_info": {
   "codemirror_mode": {
    "name": "ipython",
    "version": 3
   },
   "file_extension": ".py",
   "mimetype": "text/x-python",
   "name": "python",
   "nbconvert_exporter": "python",
   "pygments_lexer": "ipython3",
   "version": "3.12.3"
  }
 },
 "nbformat": 4,
 "nbformat_minor": 5
}
